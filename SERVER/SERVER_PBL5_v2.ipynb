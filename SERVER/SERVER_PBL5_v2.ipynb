{
 "cells": [
  {
   "cell_type": "code",
   "execution_count": null,
   "metadata": {
    "colab": {
     "base_uri": "https://localhost:8080/"
    },
    "id": "De62MZFRwsIo",
    "outputId": "821835de-41c6-44e4-c7fe-62c3c598bba6"
   },
   "outputs": [
    {
     "name": "stdout",
     "output_type": "stream",
     "text": [
      "Mounted at /content/drive\n"
     ]
    }
   ],
   "source": [
    "from google.colab import drive\n",
    "drive.mount('/content/drive')"
   ]
  },
  {
   "cell_type": "code",
   "execution_count": null,
   "metadata": {
    "colab": {
     "base_uri": "https://localhost:8080/"
    },
    "id": "hz9Nl5gm07ab",
    "outputId": "6c345299-27ad-4422-c349-b5c8104c7720"
   },
   "outputs": [],
   "source": [
    "!ls /content/drive/My\\ Drive"
   ]
  },
  {
   "cell_type": "code",
   "execution_count": null,
   "metadata": {
    "colab": {
     "base_uri": "https://localhost:8080/"
    },
    "id": "d2Wy71qh2X45",
    "outputId": "ceafcb72-1950-4860-95c8-073466d2d063"
   },
   "outputs": [
    {
     "name": "stdout",
     "output_type": "stream",
     "text": [
      "/content/drive/My Drive/server\n"
     ]
    }
   ],
   "source": [
    "%cd /content/drive/My\\ Drive/server"
   ]
  },
  {
   "cell_type": "code",
   "execution_count": null,
   "metadata": {
    "colab": {
     "base_uri": "https://localhost:8080/"
    },
    "id": "--kUaWla1BQU",
    "outputId": "e93d1db4-02dc-46e0-8446-b556eee2ea09"
   },
   "outputs": [
    {
     "name": "stdout",
     "output_type": "stream",
     "text": [
      "total 101104\n",
      "-rw------- 1 root root     3990 Nov 10 02:11 a1.jpeg\n",
      "-rw------- 1 root root     3543 Nov 10 02:11 a2.jpeg\n",
      "-rw------- 1 root root     3892 Nov  7 17:18 main2.py\n",
      "-rw------- 1 root root     2699 Nov  7 05:25 main.py\n",
      "-rw------- 1 root root  9145278 Nov  7 07:02 mobilenet_v2_model.pth\n",
      "-rw------- 1 root root      110 Oct 19 08:00 ngrok_recovery_codes.txt\n",
      "-rw------- 1 root root     1272 Nov  7 08:06 predict.py\n",
      "-rw------- 1 root root      400 Nov  7 17:20 requirements.txt\n",
      "-rw------- 1 root root 94365682 Nov  7 04:35 resnet50_model.pth\n",
      "-rw------- 1 root root     1708 Nov  8 13:23 server.py\n"
     ]
    }
   ],
   "source": [
    "!ls -la"
   ]
  },
  {
   "cell_type": "code",
   "execution_count": null,
   "metadata": {
    "colab": {
     "base_uri": "https://localhost:8080/",
     "height": 1000
    },
    "id": "lIKLt7NnxWZp",
    "outputId": "deb9b5c4-0d81-4a6d-e79a-604e129b61a9"
   },
   "outputs": [],
   "source": [
    "# !pip install fastapi uvicorn pyngrok nest_asyncio\n",
    "!pip install -r -q requirements.txt"
   ]
  },
  {
   "cell_type": "code",
   "execution_count": null,
   "metadata": {
    "colab": {
     "base_uri": "https://localhost:8080/"
    },
    "id": "orUnzxDYxo0S",
    "outputId": "e581cd86-b41f-4119-831b-e03a7ed1b89a"
   },
   "outputs": [
    {
     "name": "stdout",
     "output_type": "stream",
     "text": [
      "Authtoken saved to configuration file: /root/.config/ngrok/ngrok.yml\n"
     ]
    }
   ],
   "source": [
    "# https://dashboard.ngrok.com/get-started/setup/windows\n",
    "!ngrok config add-authtoken ****************************************"
   ]
  },
  {
   "cell_type": "code",
   "execution_count": null,
   "metadata": {
    "colab": {
     "base_uri": "https://localhost:8080/"
    },
    "id": "1IjnZFFlp2Lm",
    "outputId": "9247f41b-c720-45c0-b537-d4082d012e60"
   },
   "outputs": [],
   "source": [
    "!python3 server.py"
   ]
  },
  {
   "cell_type": "code",
   "execution_count": null,
   "metadata": {
    "id": "LZs7ASaO-MjG"
   },
   "outputs": [],
   "source": []
  }
 ],
 "metadata": {
  "colab": {
   "provenance": []
  },
  "kernelspec": {
   "display_name": "Python 3",
   "name": "python3"
  },
  "language_info": {
   "name": "python"
  }
 },
 "nbformat": 4,
 "nbformat_minor": 0
}
